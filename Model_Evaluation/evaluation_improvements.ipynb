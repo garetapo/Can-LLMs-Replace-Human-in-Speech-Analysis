{
 "cells": [
  {
   "cell_type": "markdown",
   "id": "f8c7e102",
   "metadata": {},
   "source": [
    "<div class=\"alert alert-success\" style = \"border-radius:10px;border-width:3px;border-color:white;font-family:Verdana,sans-serif;font-size:16px;\">\n",
    "<h2>Evaluation improvements models</h2>\n",
    "\n",
    "In this Jupyter notebook, we follow a procedure similar to that in the 'evaluation_baseline.jpynb'. Initially, we create sorted DataFrames for both the original and predicted values. A key difference in this notebook is the exclusion of outputs containing '2' or '3'. After filtering these values, we proceed to calculate four key metrics: Precision, Recall, F1-Score, and Matthews Correlation Coefficient. Additionally, we compute the ratios of '0's, '1's, '2's, and '3's for each individual component and for the dataset as a whole.\n",
    "\n",
    "Furthermore, we have created a series of bar charts to visually assess the evolution and performance across different components. "
   ]
  },
  {
   "cell_type": "code",
   "execution_count": 166,
   "id": "4a494d0b-21c2-45b8-9157-cc401d95e0f1",
   "metadata": {
    "tags": []
   },
   "outputs": [],
   "source": [
    "import pandas as pd\n",
    "import matplotlib.pyplot as plt\n",
    "import seaborn as sns\n",
    "import ast\n",
    "from sklearn.metrics import precision_score, recall_score, f1_score, matthews_corrcoef, confusion_matrix\n",
    "import numpy as np"
   ]
  },
  {
   "cell_type": "code",
   "execution_count": 167,
   "id": "b0ee53a7-36c7-4b36-b71f-17cf3246ddbc",
   "metadata": {
    "tags": []
   },
   "outputs": [],
   "source": [
    "def transform_df(df_sheet):\n",
    "    \n",
    "    columns_to_drop = ['Interlocutor', 'Unnamed: 1']\n",
    "\n",
    "    # Drop the specified columns\n",
    "    df_sheet = df_sheet.drop(columns=columns_to_drop)\n",
    "    # Drop the specified row (index 0)\n",
    "    df_sheet = df_sheet.drop(index=0)\n",
    "    df_subset = df_sheet.loc[0:30]\n",
    "    transposed_df_sheet = df_subset.T\n",
    "    transposed_df_sheet=transposed_df_sheet.reset_index(drop=True)\n",
    "    columns_to_drop = [2, 5, 8, 19, 26]\n",
    "    transposed_df_sheet=transposed_df_sheet.drop(columns=columns_to_drop)\n",
    "    transposed_df_sheet.shape\n",
    "    # Rename columns using the list\n",
    "    columns_list_sheet = ['File', 'component_1', 'component_2', 'component_3',\n",
    "                           'component_4', 'component_5', 'component_6', 'component_7',\n",
    "                           'component_8', 'component_9', 'component_10', 'component_11',\n",
    "                           'component_12', 'component_13', 'component_14', 'component_15',\n",
    "                           'component_16', 'component_17', 'component_18', 'component_19',\n",
    "                           'component_20', 'component_21', 'component_22', 'component_23', 'component_24']\n",
    "    transposed_df_sheet.columns = columns_list_sheet\n",
    "    return transposed_df_sheet"
   ]
  },
  {
   "cell_type": "code",
   "execution_count": 168,
   "id": "515247ab-0efc-4d02-9b17-d77b7229f64b",
   "metadata": {
    "tags": []
   },
   "outputs": [],
   "source": [
    "# Read sheets by index (0-based)\n",
    "sheets_to_read = [0, 1]\n",
    "dfjulio = pd.read_excel(\"../Valoració_Julio.xlsx\", sheet_name=sheets_to_read)\n",
    "df_sheet0_j = dfjulio[0]\n",
    "df_sheet1_j = dfjulio[1]\n",
    "df_sheet0_j = transform_df(df_sheet0_j)\n",
    "df_sheet1_j = transform_df(df_sheet1_j)\n",
    "dfsep = pd.read_excel(\"../Valoració_Septiembre.xlsx\", sheet_name=sheets_to_read)\n",
    "df_sheet0_s = dfsep[0]\n",
    "df_sheet1_s = dfsep[1]\n",
    "df_sheet0_s = transform_df(df_sheet0_s)\n",
    "df_sheet1_s = transform_df(df_sheet1_s)"
   ]
  },
  {
   "cell_type": "code",
   "execution_count": 169,
   "id": "6fd67e4b-12a9-4b2d-b0bd-1ef3d61d6308",
   "metadata": {
    "tags": []
   },
   "outputs": [],
   "source": [
    "# Concatenate all dataframes in one step\n",
    "all_dataframes = [df_sheet0_j, df_sheet0_s, df_sheet1_j, df_sheet1_s]\n",
    "final_concatenated_df = pd.concat(all_dataframes, axis=0)\n",
    "\n",
    "# Reset the index for the final dataframe\n",
    "final_concatenated_df = final_concatenated_df.reset_index(drop=True)\n",
    "# List of component columns to convert\n",
    "components = [f'component_{i}' for i in range(1, 25)]\n",
    "\n",
    "# Convert each component column to int\n",
    "for component in components:\n",
    "    final_concatenated_df[component] = final_concatenated_df[component].astype(int)"
   ]
  },
  {
   "cell_type": "code",
   "execution_count": 243,
   "id": "7d966fc4-f25a-4e1b-9d93-3ba9b4f9804a",
   "metadata": {
    "tags": []
   },
   "outputs": [],
   "source": [
    "df = pd.read_csv(\"output_results_baseline_model_esp_finetune.csv\")\n",
    "df[\"File\"] = df[\"File\"].str.replace('.txt', '')\n",
    "# Convert the \"Result\" column to a list of integers for every row\n",
    "df['Result'] = df['Result'].apply(lambda x: ast.literal_eval(x))\n",
    "# Create a DataFrame with each component in a separate column\n",
    "df_components = pd.DataFrame(df['Result'].to_list(), columns=[f'component_{i+1}' for i in range(len(df['Result'].iloc[0]))])\n",
    "# Concatenate the DataFrames\n",
    "result_df = pd.concat([df['File'], df_components], axis=1)"
   ]
  },
  {
   "cell_type": "code",
   "execution_count": 244,
   "id": "710a6def-2b55-46c7-bd63-e93cf5d64825",
   "metadata": {
    "tags": []
   },
   "outputs": [],
   "source": [
    "filtered_df = final_concatenated_df[final_concatenated_df['File'].isin(result_df['File'])]"
   ]
  },
  {
   "cell_type": "code",
   "execution_count": 245,
   "id": "61e38e13-c0ff-4049-986d-8ff97d1ba3f7",
   "metadata": {
    "tags": []
   },
   "outputs": [],
   "source": [
    "filtered_df_aligned = filtered_df.sort_values('File')\n",
    "result_df_aligned = result_df.sort_values('File')\n",
    "# Re-indexing both DataFrames to align their indices\n",
    "filtered_df_aligned.reset_index(drop=True, inplace=True)\n",
    "result_df_aligned.reset_index(drop=True, inplace=True)"
   ]
  },
  {
   "cell_type": "code",
   "execution_count": 246,
   "id": "c8b1a127-9857-4b6c-9ccd-8f7b3225b628",
   "metadata": {
    "tags": []
   },
   "outputs": [
    {
     "name": "stdout",
     "output_type": "stream",
     "text": [
      "Metrics for each component:\n",
      "component_1 - Precision: 0.8823529411764706, Recall: 0.9574468085106383, F1-Score: 0.9183673469387754, MCC: -0.0707549137677225\n",
      "component_2 - Precision: 0.6382978723404256, Recall: 0.9090909090909091, F1-Score: 0.75, MCC: -0.18133397807751273\n",
      "component_3 - Precision: 0.76, Recall: 0.95, F1-Score: 0.8444444444444444, MCC: -0.10954451150103321\n",
      "component_4 - Precision: 0.5833333333333334, Recall: 0.9655172413793104, F1-Score: 0.7272727272727274, MCC: -0.11986582537134603\n",
      "component_5 - Precision: 1.0, Recall: 0.9782608695652174, F1-Score: 0.989010989010989, MCC: 0.0\n",
      "component_6 - Precision: 0.9148936170212766, Recall: 1.0, F1-Score: 0.9555555555555556, MCC: 0.42776012367243316\n",
      "component_7 - Precision: 0.84, Recall: 1.0, F1-Score: 0.9130434782608696, MCC: 0.0\n",
      "component_8 - Precision: 0.9423076923076923, Recall: 0.9245283018867925, F1-Score: 0.9333333333333333, MCC: -0.06598588053218754\n",
      "component_9 - Precision: 0.9, Recall: 1.0, F1-Score: 0.9473684210526316, MCC: 0.0\n",
      "component_10 - Precision: 0.7272727272727273, Recall: 0.9142857142857143, F1-Score: 0.810126582278481, MCC: -0.15289415743128767\n",
      "component_11 - Precision: 0.9111111111111111, Recall: 1.0, F1-Score: 0.9534883720930233, MCC: 0.0\n",
      "component_12 - Precision: 0.9387755102040817, Recall: 1.0, F1-Score: 0.968421052631579, MCC: 0.0\n",
      "component_13 - Precision: 0.7446808510638298, Recall: 0.9722222222222222, F1-Score: 0.8433734939759036, MCC: 0.2175720826930661\n",
      "component_14 - Precision: 0.6458333333333334, Recall: 0.96875, F1-Score: 0.775, MCC: -0.10520317644127165\n",
      "component_15 - Precision: 0.7872340425531915, Recall: 1.0, F1-Score: 0.880952380952381, MCC: 0.0\n",
      "component_16 - Precision: 0.8333333333333334, Recall: 1.0, F1-Score: 0.9090909090909091, MCC: 0.28867513459481287\n",
      "component_17 - Precision: 0.4594594594594595, Recall: 1.0, F1-Score: 0.6296296296296297, MCC: 0.14791559038526628\n",
      "component_18 - Precision: 0.7647058823529411, Recall: 0.975, F1-Score: 0.857142857142857, MCC: -0.07669649888473705\n",
      "component_19 - Precision: 0.9111111111111111, Recall: 0.9534883720930233, F1-Score: 0.9318181818181819, MCC: 0.3433883952736511\n",
      "component_20 - Precision: 0.9361702127659575, Recall: 0.9361702127659575, F1-Score: 0.9361702127659575, MCC: -0.06382978723404255\n",
      "component_21 - Precision: 0.775, Recall: 1.0, F1-Score: 0.8732394366197184, MCC: 0.0\n",
      "component_22 - Precision: 0.6792452830188679, Recall: 1.0, F1-Score: 0.8089887640449438, MCC: 0.0\n",
      "component_23 - Precision: 0.6521739130434783, Recall: 0.967741935483871, F1-Score: 0.7792207792207793, MCC: -0.10592542826647522\n",
      "component_24 - Precision: 0.7727272727272727, Recall: 0.9714285714285714, F1-Score: 0.8607594936708862, MCC: -0.08058229640253803\n"
     ]
    }
   ],
   "source": [
    "components = [f'component_{i}' for i in range(1, 25)]\n",
    "\n",
    "# Initialize lists to store the metrics for each component\n",
    "precisions = []\n",
    "recalls = []\n",
    "f1_scores = []\n",
    "mcc_scores = []\n",
    "specificities = []\n",
    "\n",
    "# Calculating metrics for each component\n",
    "for component in components:\n",
    "    true_labels = filtered_df_aligned[component].values\n",
    "    predicted_labels = result_df_aligned[component].values\n",
    "\n",
    "    # Filtering out the '2' and '3' values which are discarded predictions\n",
    "    indices_to_keep = [i for i, x in enumerate(predicted_labels) if x not in [2, 3]]\n",
    "    filtered_true_labels = [true_labels[i] for i in indices_to_keep]\n",
    "    filtered_predicted_labels = [predicted_labels[i] for i in indices_to_keep]\n",
    "\n",
    "    # Calculating metrics\n",
    "    if filtered_true_labels:\n",
    "        precision = precision_score(filtered_true_labels, filtered_predicted_labels)\n",
    "        recall = recall_score(filtered_true_labels, filtered_predicted_labels)\n",
    "        f1 = f1_score(filtered_true_labels, filtered_predicted_labels)\n",
    "        mcc = matthews_corrcoef(filtered_true_labels, filtered_predicted_labels)\n",
    "\n",
    "        precisions.append(precision)\n",
    "        recalls.append(recall)\n",
    "        f1_scores.append(f1)\n",
    "        mcc_scores.append(mcc)\n",
    "\n",
    "# Displaying metrics\n",
    "print(\"Metrics for each component:\")\n",
    "for i, component in enumerate(components):\n",
    "    print(f\"{component} - Precision: {precisions[i]}, Recall: {recalls[i]}, F1-Score: {f1_scores[i]}, MCC: {mcc_scores[i]}\")"
   ]
  },
  {
   "cell_type": "code",
   "execution_count": null,
   "id": "dbfa9a0d-1de1-4e00-8bfb-a53383b4a890",
   "metadata": {
    "tags": []
   },
   "outputs": [],
   "source": [
    "# To calculate global metrics using all true labels and predicted labels together,\n",
    "# first concatenate all the labels from each component into single arrays\n",
    "\n",
    "global_true_labels = []\n",
    "global_predicted_labels = []\n",
    "\n",
    "for component in components:\n",
    "    true_labels = filtered_df_aligned[component].values\n",
    "    predicted_labels = result_df_aligned[component].values\n",
    "\n",
    "    # Filtering out the '2' and '3' values which are discarded predictions\n",
    "    indices_to_keep = [i for i, x in enumerate(predicted_labels) if x not in [2, 3]]\n",
    "    global_true_labels.extend([true_labels[i] for i in indices_to_keep])\n",
    "    global_predicted_labels.extend([predicted_labels[i] for i in indices_to_keep])\n",
    "\n",
    "# Now calculate the global metrics using the concatenated arrays\n",
    "global_precision = precision_score(global_true_labels, global_predicted_labels)\n",
    "global_recall = recall_score(global_true_labels, global_predicted_labels)\n",
    "global_f1 = f1_score(global_true_labels, global_predicted_labels)\n",
    "global_mcc = matthews_corrcoef(global_true_labels, global_predicted_labels)\n",
    "\n",
    "# Display global metrics\n",
    "print(\"Global Metrics:\")\n",
    "print(f\"Global Precision: {global_precision}\")\n",
    "print(f\"Global Recall: {global_recall}\")\n",
    "print(f\"Global F1-Score: {global_f1}\")\n",
    "print(f\"Global MCC: {global_mcc}\")"
   ]
  },
  {
   "cell_type": "code",
   "execution_count": null,
   "id": "3d1f211e-fa8b-44bc-af70-84e47c3d3ff9",
   "metadata": {
    "tags": []
   },
   "outputs": [],
   "source": [
    "from sklearn.metrics import confusion_matrix\n",
    "\n",
    "# Calculate the confusion matrix\n",
    "confusion = confusion_matrix(global_true_labels, global_predicted_labels)\n",
    "\n",
    "# Extract TP, FP, TN, and FN from the confusion matrix\n",
    "TP = confusion[1, 1]  # True Positives\n",
    "FP = confusion[0, 1]  # False Positives\n",
    "TN = confusion[0, 0]  # True Negatives\n",
    "FN = confusion[1, 0]  # False Negatives\n",
    "\n",
    "# Display the values\n",
    "print(f\"True Positives (TP): {TP}\")\n",
    "print(f\"False Positives (FP): {FP}\")\n",
    "print(f\"True Negatives (TN): {TN}\")\n",
    "print(f\"False Negatives (FN): {FN}\")"
   ]
  },
  {
   "cell_type": "code",
   "execution_count": 186,
   "id": "aa40f3c0-f3fe-4a58-8ea8-fbfeea094349",
   "metadata": {
    "tags": []
   },
   "outputs": [],
   "source": [
    "# Function to plot bar charts\n",
    "def plot_bar_chart(metrics, title, ylabel):\n",
    "    plt.figure(figsize=(15, 8))\n",
    "    plt.bar(components, metrics, color='skyblue')\n",
    "    plt.xlabel('Components')\n",
    "    plt.ylabel(ylabel)\n",
    "    plt.title(title)\n",
    "    plt.xticks(rotation=90)\n",
    "    plt.savefig('ratio_of_1s_components_.png')\n",
    "    plt.show()\n"
   ]
  },
  {
   "cell_type": "code",
   "execution_count": 195,
   "id": "7ab191f8-f6fb-4982-bf59-c43d97e36b98",
   "metadata": {
    "tags": []
   },
   "outputs": [
    {
     "data": {
      "image/png": "[encoded data removed]",
      "text/plain": [
       "<Figure size 1500x800 with 1 Axes>"
      ]
     },
     "metadata": {},
     "output_type": "display_data"
    },
    {
     "data": {
      "image/png": "[encoded data removed]",
      "text/plain": [
       "<Figure size 1500x800 with 1 Axes>"
      ]
     },
     "metadata": {},
     "output_type": "display_data"
    },
    {
     "data": {
      "image/png": "[encoded data removed]",
      "text/plain": [
       "<Figure size 1500x800 with 1 Axes>"
      ]
     },
     "metadata": {},
     "output_type": "display_data"
    },
    {
     "data": {
      "image/png": "[encoded data removed]",
      "text/plain": [
       "<Figure size 1500x800 with 1 Axes>"
      ]
     },
     "metadata": {},
     "output_type": "display_data"
    }
   ],
   "source": [
    "# Plotting bar charts for Precision, Recall, and F1-Score\n",
    "plot_bar_chart(precisions, 'Precision Scores per Component', 'Precision')\n",
    "plot_bar_chart(recalls, 'Recall Scores per Component', 'Recall')\n",
    "plot_bar_chart(f1_scores, 'F1 Scores per Component', 'F1-Score')\n",
    "plot_bar_chart(mcc_scores, 'MCC per Component', 'MCC')"
   ]
  },
  {
   "cell_type": "code",
   "execution_count": null,
   "id": "92a055bb-5163-4d7e-9056-2809eefc8ad2",
   "metadata": {
    "tags": []
   },
   "outputs": [],
   "source": [
    "# Initialize counters for 0s, 1s, 2s, and 3s\n",
    "total_count_0s = 0\n",
    "total_count_1s = 0\n",
    "total_count_2s = 0\n",
    "total_count_3s = 0\n",
    "total_predictions = 0\n",
    "\n",
    "# Summing up the count of 0s, 1s, 2s, and 3s from all components\n",
    "for component in components:\n",
    "    predicted_labels = result_df_aligned[component]\n",
    "    total_count_0s += np.count_nonzero(predicted_labels == 0)\n",
    "    total_count_1s += np.count_nonzero(predicted_labels == 1)\n",
    "    total_count_2s += np.count_nonzero(predicted_labels == 2)\n",
    "    total_count_3s += np.count_nonzero(predicted_labels == 3)\n",
    "    total_predictions += len(predicted_labels)\n",
    "\n",
    "# Calculating the ratios\n",
    "ratio_of_0s = total_count_0s / total_predictions if total_predictions != 0 else 0\n",
    "ratio_of_1s = total_count_1s / total_predictions if total_predictions != 0 else 0\n",
    "ratio_of_2s = total_count_2s / total_predictions if total_predictions != 0 else 0\n",
    "ratio_of_3s = total_count_3s / total_predictions if total_predictions != 0 else 0\n",
    "\n",
    "ratio_of_0s, ratio_of_1s, ratio_of_2s, ratio_of_3s"
   ]
  },
  {
   "cell_type": "code",
   "execution_count": null,
   "id": "1375cf8b-5103-4e1f-8802-41ca3008f68d",
   "metadata": {
    "tags": []
   },
   "outputs": [],
   "source": [
    "###### Initialize a list to store the ratio for each component\n",
    "ratios_per_component = []\n",
    "\n",
    "# Calculating the ratio of 1s to total predictions for each component\n",
    "for component in components:\n",
    "    predicted_labels = result_df_aligned[component].values\n",
    "    count_1s = np.count_nonzero(predicted_labels == 1)\n",
    "    total_predictions = len(predicted_labels)\n",
    "\n",
    "    # Calculate the ratio for this component\n",
    "    ratio = count_1s / total_predictions if total_predictions != 0 else 0\n",
    "    ratios_per_component.append(ratio)\n",
    "\n",
    "# Print the ratio for each component\n",
    "print(\"Ratio of 1s to total predictions for each component:\")\n",
    "for i, component in enumerate(components):\n",
    "    print(f\"{component} - Ratio: {ratios_per_component[i]}\")"
   ]
  },
  {
   "cell_type": "code",
   "execution_count": null,
   "id": "b3cc7905-5424-4f98-af38-1915e609a932",
   "metadata": {
    "tags": []
   },
   "outputs": [],
   "source": [
    "plot_bar_chart(ratios_per_component, 'Ratios of 1s per Component', 'Ratios of 1s ')"
   ]
  }
 ],
 "metadata": {
  "availableInstances": [
   {
    "_defaultOrder": 0,
    "_isFastLaunch": true,
    "category": "General purpose",
    "gpuNum": 0,
    "hideHardwareSpecs": false,
    "memoryGiB": 4,
    "name": "ml.t3.medium",
    "vcpuNum": 2
   },
   {
    "_defaultOrder": 1,
    "_isFastLaunch": false,
    "category": "General purpose",
    "gpuNum": 0,
    "hideHardwareSpecs": false,
    "memoryGiB": 8,
    "name": "ml.t3.large",
    "vcpuNum": 2
   },
   {
    "_defaultOrder": 2,
    "_isFastLaunch": false,
    "category": "General purpose",
    "gpuNum": 0,
    "hideHardwareSpecs": false,
    "memoryGiB": 16,
    "name": "ml.t3.xlarge",
    "vcpuNum": 4
   },
   {
    "_defaultOrder": 3,
    "_isFastLaunch": false,
    "category": "General purpose",
    "gpuNum": 0,
    "hideHardwareSpecs": false,
    "memoryGiB": 32,
    "name": "ml.t3.2xlarge",
    "vcpuNum": 8
   },
   {
    "_defaultOrder": 4,
    "_isFastLaunch": true,
    "category": "General purpose",
    "gpuNum": 0,
    "hideHardwareSpecs": false,
    "memoryGiB": 8,
    "name": "ml.m5.large",
    "vcpuNum": 2
   },
   {
    "_defaultOrder": 5,
    "_isFastLaunch": false,
    "category": "General purpose",
    "gpuNum": 0,
    "hideHardwareSpecs": false,
    "memoryGiB": 16,
    "name": "ml.m5.xlarge",
    "vcpuNum": 4
   },
   {
    "_defaultOrder": 6,
    "_isFastLaunch": false,
    "category": "General purpose",
    "gpuNum": 0,
    "hideHardwareSpecs": false,
    "memoryGiB": 32,
    "name": "ml.m5.2xlarge",
    "vcpuNum": 8
   },
   {
    "_defaultOrder": 7,
    "_isFastLaunch": false,
    "category": "General purpose",
    "gpuNum": 0,
    "hideHardwareSpecs": false,
    "memoryGiB": 64,
    "name": "ml.m5.4xlarge",
    "vcpuNum": 16
   },
   {
    "_defaultOrder": 8,
    "_isFastLaunch": false,
    "category": "General purpose",
    "gpuNum": 0,
    "hideHardwareSpecs": false,
    "memoryGiB": 128,
    "name": "ml.m5.8xlarge",
    "vcpuNum": 32
   },
   {
    "_defaultOrder": 9,
    "_isFastLaunch": false,
    "category": "General purpose",
    "gpuNum": 0,
    "hideHardwareSpecs": false,
    "memoryGiB": 192,
    "name": "ml.m5.12xlarge",
    "vcpuNum": 48
   },
   {
    "_defaultOrder": 10,
    "_isFastLaunch": false,
    "category": "General purpose",
    "gpuNum": 0,
    "hideHardwareSpecs": false,
    "memoryGiB": 256,
    "name": "ml.m5.16xlarge",
    "vcpuNum": 64
   },
   {
    "_defaultOrder": 11,
    "_isFastLaunch": false,
    "category": "General purpose",
    "gpuNum": 0,
    "hideHardwareSpecs": false,
    "memoryGiB": 384,
    "name": "ml.m5.24xlarge",
    "vcpuNum": 96
   },
   {
    "_defaultOrder": 12,
    "_isFastLaunch": false,
    "category": "General purpose",
    "gpuNum": 0,
    "hideHardwareSpecs": false,
    "memoryGiB": 8,
    "name": "ml.m5d.large",
    "vcpuNum": 2
   },
   {
    "_defaultOrder": 13,
    "_isFastLaunch": false,
    "category": "General purpose",
    "gpuNum": 0,
    "hideHardwareSpecs": false,
    "memoryGiB": 16,
    "name": "ml.m5d.xlarge",
    "vcpuNum": 4
   },
   {
    "_defaultOrder": 14,
    "_isFastLaunch": false,
    "category": "General purpose",
    "gpuNum": 0,
    "hideHardwareSpecs": false,
    "memoryGiB": 32,
    "name": "ml.m5d.2xlarge",
    "vcpuNum": 8
   },
   {
    "_defaultOrder": 15,
    "_isFastLaunch": false,
    "category": "General purpose",
    "gpuNum": 0,
    "hideHardwareSpecs": false,
    "memoryGiB": 64,
    "name": "ml.m5d.4xlarge",
    "vcpuNum": 16
   },
   {
    "_defaultOrder": 16,
    "_isFastLaunch": false,
    "category": "General purpose",
    "gpuNum": 0,
    "hideHardwareSpecs": false,
    "memoryGiB": 128,
    "name": "ml.m5d.8xlarge",
    "vcpuNum": 32
   },
   {
    "_defaultOrder": 17,
    "_isFastLaunch": false,
    "category": "General purpose",
    "gpuNum": 0,
    "hideHardwareSpecs": false,
    "memoryGiB": 192,
    "name": "ml.m5d.12xlarge",
    "vcpuNum": 48
   },
   {
    "_defaultOrder": 18,
    "_isFastLaunch": false,
    "category": "General purpose",
    "gpuNum": 0,
    "hideHardwareSpecs": false,
    "memoryGiB": 256,
    "name": "ml.m5d.16xlarge",
    "vcpuNum": 64
   },
   {
    "_defaultOrder": 19,
    "_isFastLaunch": false,
    "category": "General purpose",
    "gpuNum": 0,
    "hideHardwareSpecs": false,
    "memoryGiB": 384,
    "name": "ml.m5d.24xlarge",
    "vcpuNum": 96
   },
   {
    "_defaultOrder": 20,
    "_isFastLaunch": false,
    "category": "General purpose",
    "gpuNum": 0,
    "hideHardwareSpecs": true,
    "memoryGiB": 0,
    "name": "ml.geospatial.interactive",
    "supportedImageNames": [
     "sagemaker-geospatial-v1-0"
    ],
    "vcpuNum": 0
   },
   {
    "_defaultOrder": 21,
    "_isFastLaunch": true,
    "category": "Compute optimized",
    "gpuNum": 0,
    "hideHardwareSpecs": false,
    "memoryGiB": 4,
    "name": "ml.c5.large",
    "vcpuNum": 2
   },
   {
    "_defaultOrder": 22,
    "_isFastLaunch": false,
    "category": "Compute optimized",
    "gpuNum": 0,
    "hideHardwareSpecs": false,
    "memoryGiB": 8,
    "name": "ml.c5.xlarge",
    "vcpuNum": 4
   },
   {
    "_defaultOrder": 23,
    "_isFastLaunch": false,
    "category": "Compute optimized",
    "gpuNum": 0,
    "hideHardwareSpecs": false,
    "memoryGiB": 16,
    "name": "ml.c5.2xlarge",
    "vcpuNum": 8
   },
   {
    "_defaultOrder": 24,
    "_isFastLaunch": false,
    "category": "Compute optimized",
    "gpuNum": 0,
    "hideHardwareSpecs": false,
    "memoryGiB": 32,
    "name": "ml.c5.4xlarge",
    "vcpuNum": 16
   },
   {
    "_defaultOrder": 25,
    "_isFastLaunch": false,
    "category": "Compute optimized",
    "gpuNum": 0,
    "hideHardwareSpecs": false,
    "memoryGiB": 72,
    "name": "ml.c5.9xlarge",
    "vcpuNum": 36
   },
   {
    "_defaultOrder": 26,
    "_isFastLaunch": false,
    "category": "Compute optimized",
    "gpuNum": 0,
    "hideHardwareSpecs": false,
    "memoryGiB": 96,
    "name": "ml.c5.12xlarge",
    "vcpuNum": 48
   },
   {
    "_defaultOrder": 27,
    "_isFastLaunch": false,
    "category": "Compute optimized",
    "gpuNum": 0,
    "hideHardwareSpecs": false,
    "memoryGiB": 144,
    "name": "ml.c5.18xlarge",
    "vcpuNum": 72
   },
   {
    "_defaultOrder": 28,
    "_isFastLaunch": false,
    "category": "Compute optimized",
    "gpuNum": 0,
    "hideHardwareSpecs": false,
    "memoryGiB": 192,
    "name": "ml.c5.24xlarge",
    "vcpuNum": 96
   },
   {
    "_defaultOrder": 29,
    "_isFastLaunch": true,
    "category": "Accelerated computing",
    "gpuNum": 1,
    "hideHardwareSpecs": false,
    "memoryGiB": 16,
    "name": "ml.g4dn.xlarge",
    "vcpuNum": 4
   },
   {
    "_defaultOrder": 30,
    "_isFastLaunch": false,
    "category": "Accelerated computing",
    "gpuNum": 1,
    "hideHardwareSpecs": false,
    "memoryGiB": 32,
    "name": "ml.g4dn.2xlarge",
    "vcpuNum": 8
   },
   {
    "_defaultOrder": 31,
    "_isFastLaunch": false,
    "category": "Accelerated computing",
    "gpuNum": 1,
    "hideHardwareSpecs": false,
    "memoryGiB": 64,
    "name": "ml.g4dn.4xlarge",
    "vcpuNum": 16
   },
   {
    "_defaultOrder": 32,
    "_isFastLaunch": false,
    "category": "Accelerated computing",
    "gpuNum": 1,
    "hideHardwareSpecs": false,
    "memoryGiB": 128,
    "name": "ml.g4dn.8xlarge",
    "vcpuNum": 32
   },
   {
    "_defaultOrder": 33,
    "_isFastLaunch": false,
    "category": "Accelerated computing",
    "gpuNum": 4,
    "hideHardwareSpecs": false,
    "memoryGiB": 192,
    "name": "ml.g4dn.12xlarge",
    "vcpuNum": 48
   },
   {
    "_defaultOrder": 34,
    "_isFastLaunch": false,
    "category": "Accelerated computing",
    "gpuNum": 1,
    "hideHardwareSpecs": false,
    "memoryGiB": 256,
    "name": "ml.g4dn.16xlarge",
    "vcpuNum": 64
   },
   {
    "_defaultOrder": 35,
    "_isFastLaunch": false,
    "category": "Accelerated computing",
    "gpuNum": 1,
    "hideHardwareSpecs": false,
    "memoryGiB": 61,
    "name": "ml.p3.2xlarge",
    "vcpuNum": 8
   },
   {
    "_defaultOrder": 36,
    "_isFastLaunch": false,
    "category": "Accelerated computing",
    "gpuNum": 4,
    "hideHardwareSpecs": false,
    "memoryGiB": 244,
    "name": "ml.p3.8xlarge",
    "vcpuNum": 32
   },
   {
    "_defaultOrder": 37,
    "_isFastLaunch": false,
    "category": "Accelerated computing",
    "gpuNum": 8,
    "hideHardwareSpecs": false,
    "memoryGiB": 488,
    "name": "ml.p3.16xlarge",
    "vcpuNum": 64
   },
   {
    "_defaultOrder": 38,
    "_isFastLaunch": false,
    "category": "Accelerated computing",
    "gpuNum": 8,
    "hideHardwareSpecs": false,
    "memoryGiB": 768,
    "name": "ml.p3dn.24xlarge",
    "vcpuNum": 96
   },
   {
    "_defaultOrder": 39,
    "_isFastLaunch": false,
    "category": "Memory Optimized",
    "gpuNum": 0,
    "hideHardwareSpecs": false,
    "memoryGiB": 16,
    "name": "ml.r5.large",
    "vcpuNum": 2
   },
   {
    "_defaultOrder": 40,
    "_isFastLaunch": false,
    "category": "Memory Optimized",
    "gpuNum": 0,
    "hideHardwareSpecs": false,
    "memoryGiB": 32,
    "name": "ml.r5.xlarge",
    "vcpuNum": 4
   },
   {
    "_defaultOrder": 41,
    "_isFastLaunch": false,
    "category": "Memory Optimized",
    "gpuNum": 0,
    "hideHardwareSpecs": false,
    "memoryGiB": 64,
    "name": "ml.r5.2xlarge",
    "vcpuNum": 8
   },
   {
    "_defaultOrder": 42,
    "_isFastLaunch": false,
    "category": "Memory Optimized",
    "gpuNum": 0,
    "hideHardwareSpecs": false,
    "memoryGiB": 128,
    "name": "ml.r5.4xlarge",
    "vcpuNum": 16
   },
   {
    "_defaultOrder": 43,
    "_isFastLaunch": false,
    "category": "Memory Optimized",
    "gpuNum": 0,
    "hideHardwareSpecs": false,
    "memoryGiB": 256,
    "name": "ml.r5.8xlarge",
    "vcpuNum": 32
   },
   {
    "_defaultOrder": 44,
    "_isFastLaunch": false,
    "category": "Memory Optimized",
    "gpuNum": 0,
    "hideHardwareSpecs": false,
    "memoryGiB": 384,
    "name": "ml.r5.12xlarge",
    "vcpuNum": 48
   },
   {
    "_defaultOrder": 45,
    "_isFastLaunch": false,
    "category": "Memory Optimized",
    "gpuNum": 0,
    "hideHardwareSpecs": false,
    "memoryGiB": 512,
    "name": "ml.r5.16xlarge",
    "vcpuNum": 64
   },
   {
    "_defaultOrder": 46,
    "_isFastLaunch": false,
    "category": "Memory Optimized",
    "gpuNum": 0,
    "hideHardwareSpecs": false,
    "memoryGiB": 768,
    "name": "ml.r5.24xlarge",
    "vcpuNum": 96
   },
   {
    "_defaultOrder": 47,
    "_isFastLaunch": false,
    "category": "Accelerated computing",
    "gpuNum": 1,
    "hideHardwareSpecs": false,
    "memoryGiB": 16,
    "name": "ml.g5.xlarge",
    "vcpuNum": 4
   },
   {
    "_defaultOrder": 48,
    "_isFastLaunch": false,
    "category": "Accelerated computing",
    "gpuNum": 1,
    "hideHardwareSpecs": false,
    "memoryGiB": 32,
    "name": "ml.g5.2xlarge",
    "vcpuNum": 8
   },
   {
    "_defaultOrder": 49,
    "_isFastLaunch": false,
    "category": "Accelerated computing",
    "gpuNum": 1,
    "hideHardwareSpecs": false,
    "memoryGiB": 64,
    "name": "ml.g5.4xlarge",
    "vcpuNum": 16
   },
   {
    "_defaultOrder": 50,
    "_isFastLaunch": false,
    "category": "Accelerated computing",
    "gpuNum": 1,
    "hideHardwareSpecs": false,
    "memoryGiB": 128,
    "name": "ml.g5.8xlarge",
    "vcpuNum": 32
   },
   {
    "_defaultOrder": 51,
    "_isFastLaunch": false,
    "category": "Accelerated computing",
    "gpuNum": 1,
    "hideHardwareSpecs": false,
    "memoryGiB": 256,
    "name": "ml.g5.16xlarge",
    "vcpuNum": 64
   },
   {
    "_defaultOrder": 52,
    "_isFastLaunch": false,
    "category": "Accelerated computing",
    "gpuNum": 4,
    "hideHardwareSpecs": false,
    "memoryGiB": 192,
    "name": "ml.g5.12xlarge",
    "vcpuNum": 48
   },
   {
    "_defaultOrder": 53,
    "_isFastLaunch": false,
    "category": "Accelerated computing",
    "gpuNum": 4,
    "hideHardwareSpecs": false,
    "memoryGiB": 384,
    "name": "ml.g5.24xlarge",
    "vcpuNum": 96
   },
   {
    "_defaultOrder": 54,
    "_isFastLaunch": false,
    "category": "Accelerated computing",
    "gpuNum": 8,
    "hideHardwareSpecs": false,
    "memoryGiB": 768,
    "name": "ml.g5.48xlarge",
    "vcpuNum": 192
   },
   {
    "_defaultOrder": 55,
    "_isFastLaunch": false,
    "category": "Accelerated computing",
    "gpuNum": 8,
    "hideHardwareSpecs": false,
    "memoryGiB": 1152,
    "name": "ml.p4d.24xlarge",
    "vcpuNum": 96
   },
   {
    "_defaultOrder": 56,
    "_isFastLaunch": false,
    "category": "Accelerated computing",
    "gpuNum": 8,
    "hideHardwareSpecs": false,
    "memoryGiB": 1152,
    "name": "ml.p4de.24xlarge",
    "vcpuNum": 96
   },
   {
    "_defaultOrder": 57,
    "_isFastLaunch": false,
    "category": "Accelerated computing",
    "gpuNum": 0,
    "hideHardwareSpecs": false,
    "memoryGiB": 32,
    "name": "ml.trn1.2xlarge",
    "vcpuNum": 8
   },
   {
    "_defaultOrder": 58,
    "_isFastLaunch": false,
    "category": "Accelerated computing",
    "gpuNum": 0,
    "hideHardwareSpecs": false,
    "memoryGiB": 512,
    "name": "ml.trn1.32xlarge",
    "vcpuNum": 128
   },
   {
    "_defaultOrder": 59,
    "_isFastLaunch": false,
    "category": "Accelerated computing",
    "gpuNum": 0,
    "hideHardwareSpecs": false,
    "memoryGiB": 512,
    "name": "ml.trn1n.32xlarge",
    "vcpuNum": 128
   }
  ],
  "instance_type": "ml.t3.medium",
  "kernelspec": {
   "display_name": "Python 3 (Data Science 3.0)",
   "language": "python",
   "name": "python3__SAGEMAKER_INTERNAL__arn:aws:sagemaker:eu-west-1:470317259841:image/sagemaker-data-science-310-v1"
  },
  "language_info": {
   "codemirror_mode": {
    "name": "ipython",
    "version": 3
   },
   "file_extension": ".py",
   "mimetype": "text/x-python",
   "name": "python",
   "nbconvert_exporter": "python",
   "pygments_lexer": "ipython3",
   "version": "3.10.6"
  }
 },
 "nbformat": 4,
 "nbformat_minor": 5
}
