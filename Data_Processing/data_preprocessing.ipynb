{
 "cells": [
  {
   "cell_type": "markdown",
   "id": "fdac03c0",
   "metadata": {},
   "source": [
    "<div class=\"alert alert-success\" style = \"border-radius:10px;border-width:3px;border-color:white;font-family:Verdana,sans-serif;font-size:16px;\">\n",
    "<h2>Audio files transcriber</h2>\n",
    "This Jupyter notebook focuses on preparing and processing audio files for the whisper-large-v2 model. Initially, we modify the audio files to ensure they are in a format compatible with the model. Each audio file is then processed and divided into 30-second segments, which are saved in respective folders.\n",
    "\n",
    "For each folder, we process the audio segments and compile the transcriptions into a single .txt file. The name of this output file corresponds to the 'ID' of the original audio file, making it easy to track and reference.\n",
    "\n",
    "Lastly, the notebook includes a modified query to the model, enabling the transcription of the processed data into English. This step is crucial for ensuring that the transcriptions are available in a language that suits our analytical needs."
   ]
  },
  {
   "cell_type": "code",
   "execution_count": 3,
   "id": "8e98dc97-d5e0-4188-b142-951be70e2c0a",
   "metadata": {
    "tags": []
   },
   "outputs": [],
   "source": [
    "#!conda install -c anaconda ffmpeg -y\n",
    "#!pip install pydub"
   ]
  },
  {
   "cell_type": "code",
   "execution_count": 30,
   "id": "f51e3331-71e5-4c44-9efb-971514df22c5",
   "metadata": {
    "tags": []
   },
   "outputs": [],
   "source": [
    "import json\n",
    "import boto3\n",
    "import os\n",
    "from sagemaker.jumpstart import utils\n",
    "from sagemaker.serializers import JSONSerializer\n",
    "from pydub import AudioSegment"
   ]
  },
  {
   "cell_type": "markdown",
   "id": "f6b4e207",
   "metadata": {},
   "source": [
    "Let's adapt the files to the specific format of the model"
   ]
  },
  {
   "cell_type": "code",
   "execution_count": 32,
   "id": "4fc9e9e9-3b61-4aed-b79a-b65b951820c3",
   "metadata": {
    "tags": []
   },
   "outputs": [],
   "source": [
    "def convert_mp3_to_wav(input_mp3_file):\n",
    "    # Extracting the file name without extension\n",
    "    output_directory = os.path.splitext(input_mp3_file)[0] + \"/\"\n",
    "\n",
    "    # Create the output directory if it doesn't exist\n",
    "    os.makedirs(\"../segments_1/\"+output_directory, exist_ok=True)\n",
    "\n",
    "    try:\n",
    "        # Load the downloaded MP3 file using pydub\n",
    "        audio = AudioSegment.from_mp3(\"../all_samples/\"+input_mp3_file)\n",
    "\n",
    "        # Calculate the duration of the audio in milliseconds\n",
    "        audio_duration_ms = len(audio)\n",
    "\n",
    "        # Duration of each segment in milliseconds (30 seconds)\n",
    "        segment_duration_ms = 30 * 1000\n",
    "\n",
    "        # Iterate over the audio, creating 30-second segments\n",
    "        for i in range(0, audio_duration_ms, segment_duration_ms):\n",
    "            # Extract a 30-second segment\n",
    "            segment = audio[i:i + segment_duration_ms]\n",
    "\n",
    "            # Generate an output WAV file name for the segment\n",
    "            segment_output_wav_file = \"segments_1/\"+f\"{output_directory}segment_{i // 1000}.wav\"\n",
    "\n",
    "            # Convert the segment to WAV format with a sample rate of 16kHz\n",
    "            segment = segment.set_frame_rate(16000)\n",
    "\n",
    "            # Export the segment as a WAV file\n",
    "            segment.export(segment_output_wav_file, format=\"wav\")\n",
    "            \n",
    "    except Exception as e:\n",
    "        print(f\"Error processing {input_mp3_file}: {e}\")"
   ]
  },
  {
   "cell_type": "markdown",
   "id": "a887f384-1e1b-42e2-8d37-f2815cd7a27e",
   "metadata": {},
   "source": [
    "Connect to the model endpoint and directly run the query to obtain the transcribed output. The model automatically identifies the language of the input file and transcribes it in the same language. The output is a string containing the transcription"
   ]
  },
  {
   "cell_type": "code",
   "execution_count": 31,
   "id": "bf6ce9d8-943c-4859-9578-bbc0e3dd6399",
   "metadata": {
    "tags": []
   },
   "outputs": [],
   "source": [
    "endpoint_name = 'jumpstart-dft-hf-asr-whisper-large-v2'\n",
    "\n",
    "#Create a query to the model. Output is the transcipt text\n",
    "def query_endpoint(body, content_type):\n",
    "    client = boto3.client('runtime.sagemaker')\n",
    "    response = client.invoke_endpoint(EndpointName=endpoint_name, ContentType=content_type, Body=body)\n",
    "    model_predictions = json.loads(response['Body'].read())\n",
    "    text = model_predictions['text']\n",
    "    \n",
    "    # Return the model predictions instead of printing them\n",
    "    return text"
   ]
  },
  {
   "cell_type": "code",
   "execution_count": 15,
   "id": "3121e839-26f0-40b9-8fee-4935bda098a7",
   "metadata": {
    "tags": []
   },
   "outputs": [],
   "source": [
    "# Directory containing the MP3 files\n",
    "directory_path = '../all_samples'\n",
    "\n",
    "# Iterate over all files in the specified directory\n",
    "for filename in os.listdir(directory_path):\n",
    "    # Check if the file is an MP3 file\n",
    "    if filename.lower().endswith('.mp3'):\n",
    "        # Call the convert_mp3_to_wav function for each MP3 file\n",
    "        convert_mp3_to_wav(filename)"
   ]
  },
  {
   "cell_type": "markdown",
   "id": "fcb3d5eb",
   "metadata": {},
   "source": [
    "Process all the files in the directory. Each file contains multiple segments"
   ]
  },
  {
   "cell_type": "code",
   "execution_count": 52,
   "id": "e70e964a-a07b-408e-b075-9d487a66ef82",
   "metadata": {
    "tags": []
   },
   "outputs": [],
   "source": [
    "def process_directory(directory_path):\n",
    "    # Specify the file name in the output directory\n",
    "    file_txt = os.path.join(\"../output\", f\"{os.path.basename(directory_path.rstrip('/'))}.txt\")\n",
    "\n",
    "    # Clear the contents of the text file if it exists\n",
    "    if os.path.exists(file_txt):\n",
    "        with open(file_txt, \"w\") as clear_file:\n",
    "            clear_file.truncate(0)\n",
    "\n",
    "    # List all files in the directory and sort them based on the numeric part of filenames\n",
    "    file_list = os.listdir(directory_path)\n",
    "    file_list.sort(key=lambda x: int(x.split(\"_\")[1].split(\".\")[0]))\n",
    "\n",
    "    # Loop through each file in the directory\n",
    "    for file_name in file_list:\n",
    "        # Construct the full path to the file\n",
    "        file_path = os.path.join(directory_path, file_name)\n",
    "        \n",
    "        i=0\n",
    "        # Check if the item in the directory is a file\n",
    "        if os.path.isfile(file_path):\n",
    "            # Open and read the binary data from the file\n",
    "            with open(file_path, \"rb\") as file:\n",
    "                wav_file_read = file.read()\n",
    "\n",
    "            # Send the binary data to the query endpoint for each file\n",
    "            predictions = query_endpoint(wav_file_read, \"audio/wav\")\n",
    "            predictions = delete_repeated_words(predictions[i])\n",
    "            i = i + 1\n",
    "\n",
    "            # Convert the 'predictions' list to a string and write it to the file directly\n",
    "            with open(file_txt, \"a\") as output_file:\n",
    "                output_file.write(predictions)  # Add a newline character to separate the strings\n",
    "\n",
    "    return predictions"
   ]
  },
  {
   "cell_type": "markdown",
   "id": "41f787ef",
   "metadata": {},
   "source": [
    "\n",
    "Implement a filter to resolve the issue encountered in some transcriptions where words were illogically repeated. Any word that is repeated within a span of five distinct words will be eliminated."
   ]
  },
  {
   "cell_type": "code",
   "execution_count": 51,
   "id": "6eceff7b-6daa-407c-b454-82ac18214ffb",
   "metadata": {
    "tags": []
   },
   "outputs": [],
   "source": [
    "def delete_repeated_words(texto):\n",
    "    palabras = texto.split()\n",
    "    texto_limpio = []\n",
    "\n",
    "    for i in range(len(palabras)):\n",
    "        if i > 4:\n",
    "            palabras_anteriores = palabras[i-5:i]\n",
    "        else:\n",
    "            palabras_anteriores = palabras[0:i]\n",
    "\n",
    "        if palabras[i] not in palabras_anteriores:\n",
    "            texto_limpio.append(palabras[i])\n",
    "\n",
    "    return ' '.join(texto_limpio)\n"
   ]
  },
  {
   "cell_type": "markdown",
   "id": "17ff3f84",
   "metadata": {},
   "source": [
    "Execute all the transcription into Spanish, from the modified audio files."
   ]
  },
  {
   "cell_type": "code",
   "execution_count": null,
   "id": "61ceb72d-e26b-41bf-bf52-f9fe8965411c",
   "metadata": {
    "tags": []
   },
   "outputs": [],
   "source": [
    "main_directory = \"segments_1\"\n",
    "\n",
    "# List all subdirectories in the main directory\n",
    "subdirectories = [d for d in os.listdir(main_directory) if os.path.isdir(os.path.join(main_directory, d))]\n",
    "\n",
    "# Iterate through each subdirectory\n",
    "for subdirectory in subdirectories:\n",
    "    subdirectory_path = os.path.join(main_directory, subdirectory)\n",
    "    prediction_vector = process_directory(subdirectory_path)"
   ]
  },
  {
   "cell_type": "markdown",
   "id": "5a9d586f",
   "metadata": {},
   "source": [
    "Modify the query to the model endpoint to transcribe the outputs into English."
   ]
  },
  {
   "cell_type": "code",
   "execution_count": null,
   "id": "58d185c8-7906-4f27-83b5-41c4e1e5f039",
   "metadata": {
    "tags": []
   },
   "outputs": [],
   "source": [
    "def query_endpoint_with_translation(input_audio_file_name):\n",
    "\n",
    "    # Read the audio file\n",
    "    with open(input_audio_file_name, \"rb\") as file:\n",
    "        wav_file_read = file.read()\n",
    "\n",
    "    # Prepare the payload with audio input, language, and translation task\n",
    "    payload = {\n",
    "        \"audio_input\": wav_file_read.hex(),\n",
    "        \"language\": \"spanish\", \n",
    "        \"task\": \"translate\"\n",
    "    }\n",
    "\n",
    "    # Create a SageMaker runtime client\n",
    "    client = boto3.client('runtime.sagemaker')\n",
    "\n",
    "    # Set the serializer for the predictor\n",
    "    serializer = JSONSerializer()\n",
    "    serializer.content_type = \"application/json\"\n",
    "\n",
    "    # Invoke the endpoint\n",
    "    response = client.invoke_endpoint(\n",
    "        EndpointName=endpoint_name,\n",
    "        ContentType=\"application/json\",\n",
    "        Body=serializer.serialize(payload)\n",
    "    )\n",
    "\n",
    "    # Parse the response and extract the translated text\n",
    "    model_predictions = json.loads(response['Body'].read())\n",
    "    translated_text = model_predictions['text']\n",
    "\n",
    "    return translated_text\n"
   ]
  },
  {
   "cell_type": "code",
   "execution_count": 69,
   "id": "12a8b129-cfc5-4f4c-8831-4125dcb31b12",
   "metadata": {
    "tags": []
   },
   "outputs": [],
   "source": [
    "def process_directory_english(directory_path):\n",
    "    # Specify the file name in the output directory\n",
    "    file_txt = os.path.join(\"../output_eng\", f\"{os.path.basename(directory_path.rstrip('/'))}.txt\")\n",
    "\n",
    "    # Clear the contents of the text file if it exists\n",
    "    if os.path.exists(file_txt):\n",
    "        with open(file_txt, \"w\") as clear_file:\n",
    "            clear_file.truncate(0)\n",
    "\n",
    "    # List all files in the directory and sort them based on the numeric part of filenames\n",
    "    file_list = os.listdir(directory_path)\n",
    "    file_list.sort(key=lambda x: int(x.split(\"_\")[1].split(\".\")[0]))\n",
    "\n",
    "    # Loop through each file in the directory\n",
    "    for file_name in file_list:\n",
    "        # Construct the full path to the file\n",
    "        file_path = os.path.join(directory_path, file_name)\n",
    "\n",
    "        # Check if the item in the directory is a file (not a subdirectory)\n",
    "        if os.path.isfile(file_path):\n",
    "            # Open and read the binary data from the file\n",
    "            predictions = query_endpoint_with_translation(file_path)\n",
    "\n",
    "            # Convert the 'predictions' list to a string and write it to the file directly\n",
    "            with open(file_txt, \"a\") as output_file:\n",
    "                output_file.write(\"\".join(predictions) + \"\")  # Add a newline character to separate the strings\n",
    "\n",
    "    return predictions"
   ]
  },
  {
   "cell_type": "code",
   "execution_count": 71,
   "id": "25e922dc-7ba6-4303-b449-06426c96969d",
   "metadata": {
    "tags": []
   },
   "outputs": [],
   "source": [
    "main_directory = \"segments_1\"\n",
    "\n",
    "# List all subdirectories in the main directory\n",
    "subdirectories = [d for d in os.listdir(main_directory) if os.path.isdir(os.path.join(main_directory, d))]\n",
    "\n",
    "# Iterate through each subdirectory\n",
    "for subdirectory in subdirectories:\n",
    "    subdirectory_path = os.path.join(main_directory, subdirectory)\n",
    "    prediction_vector = process_directory_english(subdirectory_path)"
   ]
  }
 ],
 "metadata": {
  "availableInstances": [
   {
    "_defaultOrder": 0,
    "_isFastLaunch": true,
    "category": "General purpose",
    "gpuNum": 0,
    "hideHardwareSpecs": false,
    "memoryGiB": 4,
    "name": "ml.t3.medium",
    "vcpuNum": 2
   },
   {
    "_defaultOrder": 1,
    "_isFastLaunch": false,
    "category": "General purpose",
    "gpuNum": 0,
    "hideHardwareSpecs": false,
    "memoryGiB": 8,
    "name": "ml.t3.large",
    "vcpuNum": 2
   },
   {
    "_defaultOrder": 2,
    "_isFastLaunch": false,
    "category": "General purpose",
    "gpuNum": 0,
    "hideHardwareSpecs": false,
    "memoryGiB": 16,
    "name": "ml.t3.xlarge",
    "vcpuNum": 4
   },
   {
    "_defaultOrder": 3,
    "_isFastLaunch": false,
    "category": "General purpose",
    "gpuNum": 0,
    "hideHardwareSpecs": false,
    "memoryGiB": 32,
    "name": "ml.t3.2xlarge",
    "vcpuNum": 8
   },
   {
    "_defaultOrder": 4,
    "_isFastLaunch": true,
    "category": "General purpose",
    "gpuNum": 0,
    "hideHardwareSpecs": false,
    "memoryGiB": 8,
    "name": "ml.m5.large",
    "vcpuNum": 2
   },
   {
    "_defaultOrder": 5,
    "_isFastLaunch": false,
    "category": "General purpose",
    "gpuNum": 0,
    "hideHardwareSpecs": false,
    "memoryGiB": 16,
    "name": "ml.m5.xlarge",
    "vcpuNum": 4
   },
   {
    "_defaultOrder": 6,
    "_isFastLaunch": false,
    "category": "General purpose",
    "gpuNum": 0,
    "hideHardwareSpecs": false,
    "memoryGiB": 32,
    "name": "ml.m5.2xlarge",
    "vcpuNum": 8
   },
   {
    "_defaultOrder": 7,
    "_isFastLaunch": false,
    "category": "General purpose",
    "gpuNum": 0,
    "hideHardwareSpecs": false,
    "memoryGiB": 64,
    "name": "ml.m5.4xlarge",
    "vcpuNum": 16
   },
   {
    "_defaultOrder": 8,
    "_isFastLaunch": false,
    "category": "General purpose",
    "gpuNum": 0,
    "hideHardwareSpecs": false,
    "memoryGiB": 128,
    "name": "ml.m5.8xlarge",
    "vcpuNum": 32
   },
   {
    "_defaultOrder": 9,
    "_isFastLaunch": false,
    "category": "General purpose",
    "gpuNum": 0,
    "hideHardwareSpecs": false,
    "memoryGiB": 192,
    "name": "ml.m5.12xlarge",
    "vcpuNum": 48
   },
   {
    "_defaultOrder": 10,
    "_isFastLaunch": false,
    "category": "General purpose",
    "gpuNum": 0,
    "hideHardwareSpecs": false,
    "memoryGiB": 256,
    "name": "ml.m5.16xlarge",
    "vcpuNum": 64
   },
   {
    "_defaultOrder": 11,
    "_isFastLaunch": false,
    "category": "General purpose",
    "gpuNum": 0,
    "hideHardwareSpecs": false,
    "memoryGiB": 384,
    "name": "ml.m5.24xlarge",
    "vcpuNum": 96
   },
   {
    "_defaultOrder": 12,
    "_isFastLaunch": false,
    "category": "General purpose",
    "gpuNum": 0,
    "hideHardwareSpecs": false,
    "memoryGiB": 8,
    "name": "ml.m5d.large",
    "vcpuNum": 2
   },
   {
    "_defaultOrder": 13,
    "_isFastLaunch": false,
    "category": "General purpose",
    "gpuNum": 0,
    "hideHardwareSpecs": false,
    "memoryGiB": 16,
    "name": "ml.m5d.xlarge",
    "vcpuNum": 4
   },
   {
    "_defaultOrder": 14,
    "_isFastLaunch": false,
    "category": "General purpose",
    "gpuNum": 0,
    "hideHardwareSpecs": false,
    "memoryGiB": 32,
    "name": "ml.m5d.2xlarge",
    "vcpuNum": 8
   },
   {
    "_defaultOrder": 15,
    "_isFastLaunch": false,
    "category": "General purpose",
    "gpuNum": 0,
    "hideHardwareSpecs": false,
    "memoryGiB": 64,
    "name": "ml.m5d.4xlarge",
    "vcpuNum": 16
   },
   {
    "_defaultOrder": 16,
    "_isFastLaunch": false,
    "category": "General purpose",
    "gpuNum": 0,
    "hideHardwareSpecs": false,
    "memoryGiB": 128,
    "name": "ml.m5d.8xlarge",
    "vcpuNum": 32
   },
   {
    "_defaultOrder": 17,
    "_isFastLaunch": false,
    "category": "General purpose",
    "gpuNum": 0,
    "hideHardwareSpecs": false,
    "memoryGiB": 192,
    "name": "ml.m5d.12xlarge",
    "vcpuNum": 48
   },
   {
    "_defaultOrder": 18,
    "_isFastLaunch": false,
    "category": "General purpose",
    "gpuNum": 0,
    "hideHardwareSpecs": false,
    "memoryGiB": 256,
    "name": "ml.m5d.16xlarge",
    "vcpuNum": 64
   },
   {
    "_defaultOrder": 19,
    "_isFastLaunch": false,
    "category": "General purpose",
    "gpuNum": 0,
    "hideHardwareSpecs": false,
    "memoryGiB": 384,
    "name": "ml.m5d.24xlarge",
    "vcpuNum": 96
   },
   {
    "_defaultOrder": 20,
    "_isFastLaunch": false,
    "category": "General purpose",
    "gpuNum": 0,
    "hideHardwareSpecs": true,
    "memoryGiB": 0,
    "name": "ml.geospatial.interactive",
    "supportedImageNames": [
     "sagemaker-geospatial-v1-0"
    ],
    "vcpuNum": 0
   },
   {
    "_defaultOrder": 21,
    "_isFastLaunch": true,
    "category": "Compute optimized",
    "gpuNum": 0,
    "hideHardwareSpecs": false,
    "memoryGiB": 4,
    "name": "ml.c5.large",
    "vcpuNum": 2
   },
   {
    "_defaultOrder": 22,
    "_isFastLaunch": false,
    "category": "Compute optimized",
    "gpuNum": 0,
    "hideHardwareSpecs": false,
    "memoryGiB": 8,
    "name": "ml.c5.xlarge",
    "vcpuNum": 4
   },
   {
    "_defaultOrder": 23,
    "_isFastLaunch": false,
    "category": "Compute optimized",
    "gpuNum": 0,
    "hideHardwareSpecs": false,
    "memoryGiB": 16,
    "name": "ml.c5.2xlarge",
    "vcpuNum": 8
   },
   {
    "_defaultOrder": 24,
    "_isFastLaunch": false,
    "category": "Compute optimized",
    "gpuNum": 0,
    "hideHardwareSpecs": false,
    "memoryGiB": 32,
    "name": "ml.c5.4xlarge",
    "vcpuNum": 16
   },
   {
    "_defaultOrder": 25,
    "_isFastLaunch": false,
    "category": "Compute optimized",
    "gpuNum": 0,
    "hideHardwareSpecs": false,
    "memoryGiB": 72,
    "name": "ml.c5.9xlarge",
    "vcpuNum": 36
   },
   {
    "_defaultOrder": 26,
    "_isFastLaunch": false,
    "category": "Compute optimized",
    "gpuNum": 0,
    "hideHardwareSpecs": false,
    "memoryGiB": 96,
    "name": "ml.c5.12xlarge",
    "vcpuNum": 48
   },
   {
    "_defaultOrder": 27,
    "_isFastLaunch": false,
    "category": "Compute optimized",
    "gpuNum": 0,
    "hideHardwareSpecs": false,
    "memoryGiB": 144,
    "name": "ml.c5.18xlarge",
    "vcpuNum": 72
   },
   {
    "_defaultOrder": 28,
    "_isFastLaunch": false,
    "category": "Compute optimized",
    "gpuNum": 0,
    "hideHardwareSpecs": false,
    "memoryGiB": 192,
    "name": "ml.c5.24xlarge",
    "vcpuNum": 96
   },
   {
    "_defaultOrder": 29,
    "_isFastLaunch": true,
    "category": "Accelerated computing",
    "gpuNum": 1,
    "hideHardwareSpecs": false,
    "memoryGiB": 16,
    "name": "ml.g4dn.xlarge",
    "vcpuNum": 4
   },
   {
    "_defaultOrder": 30,
    "_isFastLaunch": false,
    "category": "Accelerated computing",
    "gpuNum": 1,
    "hideHardwareSpecs": false,
    "memoryGiB": 32,
    "name": "ml.g4dn.2xlarge",
    "vcpuNum": 8
   },
   {
    "_defaultOrder": 31,
    "_isFastLaunch": false,
    "category": "Accelerated computing",
    "gpuNum": 1,
    "hideHardwareSpecs": false,
    "memoryGiB": 64,
    "name": "ml.g4dn.4xlarge",
    "vcpuNum": 16
   },
   {
    "_defaultOrder": 32,
    "_isFastLaunch": false,
    "category": "Accelerated computing",
    "gpuNum": 1,
    "hideHardwareSpecs": false,
    "memoryGiB": 128,
    "name": "ml.g4dn.8xlarge",
    "vcpuNum": 32
   },
   {
    "_defaultOrder": 33,
    "_isFastLaunch": false,
    "category": "Accelerated computing",
    "gpuNum": 4,
    "hideHardwareSpecs": false,
    "memoryGiB": 192,
    "name": "ml.g4dn.12xlarge",
    "vcpuNum": 48
   },
   {
    "_defaultOrder": 34,
    "_isFastLaunch": false,
    "category": "Accelerated computing",
    "gpuNum": 1,
    "hideHardwareSpecs": false,
    "memoryGiB": 256,
    "name": "ml.g4dn.16xlarge",
    "vcpuNum": 64
   },
   {
    "_defaultOrder": 35,
    "_isFastLaunch": false,
    "category": "Accelerated computing",
    "gpuNum": 1,
    "hideHardwareSpecs": false,
    "memoryGiB": 61,
    "name": "ml.p3.2xlarge",
    "vcpuNum": 8
   },
   {
    "_defaultOrder": 36,
    "_isFastLaunch": false,
    "category": "Accelerated computing",
    "gpuNum": 4,
    "hideHardwareSpecs": false,
    "memoryGiB": 244,
    "name": "ml.p3.8xlarge",
    "vcpuNum": 32
   },
   {
    "_defaultOrder": 37,
    "_isFastLaunch": false,
    "category": "Accelerated computing",
    "gpuNum": 8,
    "hideHardwareSpecs": false,
    "memoryGiB": 488,
    "name": "ml.p3.16xlarge",
    "vcpuNum": 64
   },
   {
    "_defaultOrder": 38,
    "_isFastLaunch": false,
    "category": "Accelerated computing",
    "gpuNum": 8,
    "hideHardwareSpecs": false,
    "memoryGiB": 768,
    "name": "ml.p3dn.24xlarge",
    "vcpuNum": 96
   },
   {
    "_defaultOrder": 39,
    "_isFastLaunch": false,
    "category": "Memory Optimized",
    "gpuNum": 0,
    "hideHardwareSpecs": false,
    "memoryGiB": 16,
    "name": "ml.r5.large",
    "vcpuNum": 2
   },
   {
    "_defaultOrder": 40,
    "_isFastLaunch": false,
    "category": "Memory Optimized",
    "gpuNum": 0,
    "hideHardwareSpecs": false,
    "memoryGiB": 32,
    "name": "ml.r5.xlarge",
    "vcpuNum": 4
   },
   {
    "_defaultOrder": 41,
    "_isFastLaunch": false,
    "category": "Memory Optimized",
    "gpuNum": 0,
    "hideHardwareSpecs": false,
    "memoryGiB": 64,
    "name": "ml.r5.2xlarge",
    "vcpuNum": 8
   },
   {
    "_defaultOrder": 42,
    "_isFastLaunch": false,
    "category": "Memory Optimized",
    "gpuNum": 0,
    "hideHardwareSpecs": false,
    "memoryGiB": 128,
    "name": "ml.r5.4xlarge",
    "vcpuNum": 16
   },
   {
    "_defaultOrder": 43,
    "_isFastLaunch": false,
    "category": "Memory Optimized",
    "gpuNum": 0,
    "hideHardwareSpecs": false,
    "memoryGiB": 256,
    "name": "ml.r5.8xlarge",
    "vcpuNum": 32
   },
   {
    "_defaultOrder": 44,
    "_isFastLaunch": false,
    "category": "Memory Optimized",
    "gpuNum": 0,
    "hideHardwareSpecs": false,
    "memoryGiB": 384,
    "name": "ml.r5.12xlarge",
    "vcpuNum": 48
   },
   {
    "_defaultOrder": 45,
    "_isFastLaunch": false,
    "category": "Memory Optimized",
    "gpuNum": 0,
    "hideHardwareSpecs": false,
    "memoryGiB": 512,
    "name": "ml.r5.16xlarge",
    "vcpuNum": 64
   },
   {
    "_defaultOrder": 46,
    "_isFastLaunch": false,
    "category": "Memory Optimized",
    "gpuNum": 0,
    "hideHardwareSpecs": false,
    "memoryGiB": 768,
    "name": "ml.r5.24xlarge",
    "vcpuNum": 96
   },
   {
    "_defaultOrder": 47,
    "_isFastLaunch": false,
    "category": "Accelerated computing",
    "gpuNum": 1,
    "hideHardwareSpecs": false,
    "memoryGiB": 16,
    "name": "ml.g5.xlarge",
    "vcpuNum": 4
   },
   {
    "_defaultOrder": 48,
    "_isFastLaunch": false,
    "category": "Accelerated computing",
    "gpuNum": 1,
    "hideHardwareSpecs": false,
    "memoryGiB": 32,
    "name": "ml.g5.2xlarge",
    "vcpuNum": 8
   },
   {
    "_defaultOrder": 49,
    "_isFastLaunch": false,
    "category": "Accelerated computing",
    "gpuNum": 1,
    "hideHardwareSpecs": false,
    "memoryGiB": 64,
    "name": "ml.g5.4xlarge",
    "vcpuNum": 16
   },
   {
    "_defaultOrder": 50,
    "_isFastLaunch": false,
    "category": "Accelerated computing",
    "gpuNum": 1,
    "hideHardwareSpecs": false,
    "memoryGiB": 128,
    "name": "ml.g5.8xlarge",
    "vcpuNum": 32
   },
   {
    "_defaultOrder": 51,
    "_isFastLaunch": false,
    "category": "Accelerated computing",
    "gpuNum": 1,
    "hideHardwareSpecs": false,
    "memoryGiB": 256,
    "name": "ml.g5.16xlarge",
    "vcpuNum": 64
   },
   {
    "_defaultOrder": 52,
    "_isFastLaunch": false,
    "category": "Accelerated computing",
    "gpuNum": 4,
    "hideHardwareSpecs": false,
    "memoryGiB": 192,
    "name": "ml.g5.12xlarge",
    "vcpuNum": 48
   },
   {
    "_defaultOrder": 53,
    "_isFastLaunch": false,
    "category": "Accelerated computing",
    "gpuNum": 4,
    "hideHardwareSpecs": false,
    "memoryGiB": 384,
    "name": "ml.g5.24xlarge",
    "vcpuNum": 96
   },
   {
    "_defaultOrder": 54,
    "_isFastLaunch": false,
    "category": "Accelerated computing",
    "gpuNum": 8,
    "hideHardwareSpecs": false,
    "memoryGiB": 768,
    "name": "ml.g5.48xlarge",
    "vcpuNum": 192
   },
   {
    "_defaultOrder": 55,
    "_isFastLaunch": false,
    "category": "Accelerated computing",
    "gpuNum": 8,
    "hideHardwareSpecs": false,
    "memoryGiB": 1152,
    "name": "ml.p4d.24xlarge",
    "vcpuNum": 96
   },
   {
    "_defaultOrder": 56,
    "_isFastLaunch": false,
    "category": "Accelerated computing",
    "gpuNum": 8,
    "hideHardwareSpecs": false,
    "memoryGiB": 1152,
    "name": "ml.p4de.24xlarge",
    "vcpuNum": 96
   },
   {
    "_defaultOrder": 57,
    "_isFastLaunch": false,
    "category": "Accelerated computing",
    "gpuNum": 0,
    "hideHardwareSpecs": false,
    "memoryGiB": 32,
    "name": "ml.trn1.2xlarge",
    "vcpuNum": 8
   },
   {
    "_defaultOrder": 58,
    "_isFastLaunch": false,
    "category": "Accelerated computing",
    "gpuNum": 0,
    "hideHardwareSpecs": false,
    "memoryGiB": 512,
    "name": "ml.trn1.32xlarge",
    "vcpuNum": 128
   },
   {
    "_defaultOrder": 59,
    "_isFastLaunch": false,
    "category": "Accelerated computing",
    "gpuNum": 0,
    "hideHardwareSpecs": false,
    "memoryGiB": 512,
    "name": "ml.trn1n.32xlarge",
    "vcpuNum": 128
   }
  ],
  "instance_type": "ml.t3.medium",
  "kernelspec": {
   "display_name": "Python 3 (Data Science 3.0)",
   "language": "python",
   "name": "python3__SAGEMAKER_INTERNAL__arn:aws:sagemaker:eu-west-1:470317259841:image/sagemaker-data-science-310-v1"
  },
  "language_info": {
   "codemirror_mode": {
    "name": "ipython",
    "version": 3
   },
   "file_extension": ".py",
   "mimetype": "text/x-python",
   "name": "python",
   "nbconvert_exporter": "python",
   "pygments_lexer": "ipython3",
   "version": "3.10.6"
  }
 },
 "nbformat": 4,
 "nbformat_minor": 5
}
